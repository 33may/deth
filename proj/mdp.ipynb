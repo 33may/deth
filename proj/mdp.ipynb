{
 "cells": [
  {
   "cell_type": "code",
   "execution_count": 1,
   "id": "initial_id",
   "metadata": {
    "collapsed": true,
    "ExecuteTime": {
     "end_time": "2024-05-02T09:24:16.322303Z",
     "start_time": "2024-05-02T09:24:15.361545Z"
    }
   },
   "outputs": [],
   "source": [
    "import networkx as nx\n",
    "import matplotlib.pyplot as plt"
   ]
  },
  {
   "cell_type": "code",
   "outputs": [
    {
     "name": "stdout",
     "output_type": "stream",
     "text": [
      "Initial State: Neighbour suspect you\n",
      "Available Actions: ['Buy Food', 'Take neighbour Food']\n",
      "Action Taken: Buy Food, New State: You have Food, Reward: -2, Finish: False\n"
     ]
    }
   ],
   "source": [
    "import numpy as np\n",
    "import random\n",
    "\n",
    "class MDP:\n",
    "    def __init__(self, states, actions, transitions, rewards):\n",
    "        self.states = states\n",
    "        self.actions = actions\n",
    "        self.transitions = transitions\n",
    "        self.rewards = rewards\n",
    "        self.current_state = random.choice(list(states.keys()))\n",
    "\n",
    "    def reset(self):\n",
    "        self.current_state = random.choice(list(self.states.keys()))\n",
    "        return self.current_state\n",
    "\n",
    "    def step(self, action):\n",
    "        if action not in self.actions[self.current_state]:\n",
    "            raise ValueError(\"Invalid action\")\n",
    "\n",
    "        outcomes = self.transitions[self.current_state][action]\n",
    "        next_state = random.choices(list(outcomes.keys()), weights=outcomes.values())[0]\n",
    "        reward = self.rewards[self.current_state][action][next_state]\n",
    "        self.current_state = next_state\n",
    "\n",
    "        done = not bool(self.transitions[self.current_state])\n",
    "        return next_state, reward, done\n",
    "\n",
    "    def get_available_actions(self):\n",
    "        return self.actions[self.current_state]\n",
    "\n",
    "states = {\n",
    "    'You have Food': None,\n",
    "    'You dont have Food': None,\n",
    "    'Neighbour suspect you': None\n",
    "}\n",
    "\n",
    "actions = {\n",
    "    'You have Food': ['Eat own food', 'Take neighbour Food'],\n",
    "    'You dont have Food': ['Buy Food', 'Take neighbour Food'],\n",
    "    'Neighbour suspect you': ['Buy Food', 'Take neighbour Food']\n",
    "}\n",
    "\n",
    "transitions = {\n",
    "    'You have Food': {\n",
    "        'Eat own food': {'You dont have Food': 1.0},\n",
    "        'Take neighbour Food': {'Neighbour suspect you': 0.2, 'You have Food': 0.8}\n",
    "    },\n",
    "    'You dont have Food': {\n",
    "        'Buy Food': {'You have Food': 1.0},\n",
    "        'Take neighbour Food': {'Neighbour suspect you': 0.5, 'You have Food': 0.5}\n",
    "    },\n",
    "    'Neighbour suspect you': {\n",
    "        'Buy Food': {'You have Food': 1.0},\n",
    "        'Take neighbour Food': {'Neighbour suspect you': 0.9, 'You have Food': 0.1}\n",
    "    }\n",
    "}\n",
    "\n",
    "rewards = {\n",
    "    'You have Food': {\n",
    "        'Eat own food': {'You dont have Food': 1},\n",
    "        'Take neighbour Food': {'Neighbour suspect you': -1, 'You have Food': 1}\n",
    "    },\n",
    "    'You dont have Food': {\n",
    "        'Buy Food': {'You have Food': -2},\n",
    "        'Take neighbour Food': {'Neighbour suspect you': -1, 'You have Food': 0}\n",
    "    },\n",
    "    'Neighbour suspect you': {\n",
    "        'Buy Food': {'You have Food': -2},\n",
    "        'Take neighbour Food': {'Neighbour suspect you': -5, 'You have Food': 1}\n",
    "    }\n",
    "}\n",
    "\n",
    "mdp = MDP(states, actions, transitions, rewards)\n",
    "current_state = mdp.reset()\n",
    "\n",
    "print(\"Initial State:\", current_state)\n",
    "\n",
    "available_actions = mdp.get_available_actions()\n",
    "\n",
    "print(\"Available Actions:\", available_actions)\n",
    "\n",
    "action_to_take = available_actions[0]\n",
    "new_state, reward, done = mdp.step(action_to_take)\n",
    "print(f\"Action Taken: {action_to_take}, New State: {new_state}, Reward: {reward}, Finish: {done}\")\n"
   ],
   "metadata": {
    "collapsed": false,
    "ExecuteTime": {
     "end_time": "2024-05-02T10:49:47.103775Z",
     "start_time": "2024-05-02T10:49:47.066661Z"
    }
   },
   "id": "2b0aad2f577a93a3",
   "execution_count": 23
  }
 ],
 "metadata": {
  "kernelspec": {
   "display_name": "Python 3",
   "language": "python",
   "name": "python3"
  },
  "language_info": {
   "codemirror_mode": {
    "name": "ipython",
    "version": 2
   },
   "file_extension": ".py",
   "mimetype": "text/x-python",
   "name": "python",
   "nbconvert_exporter": "python",
   "pygments_lexer": "ipython2",
   "version": "2.7.6"
  }
 },
 "nbformat": 4,
 "nbformat_minor": 5
}
